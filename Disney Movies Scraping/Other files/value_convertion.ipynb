{
 "cells": [
  {
   "cell_type": "code",
   "execution_count": 1,
   "metadata": {},
   "outputs": [],
   "source": [
    "import re"
   ]
  },
  {
   "cell_type": "code",
   "execution_count": 54,
   "metadata": {},
   "outputs": [],
   "source": [
    "\n",
    "test = {\n",
    "    '$960,000' : 960000,\n",
    "    '$1.066 billion' : 1066000000,\n",
    "    'est. ₹79.43 crore ' : 9531600,\n",
    "    \"['Original release', '$2.6 million ', '1969 re-release', '$2.3 million  ']\" : 2600000,\n",
    "    '$76.4–$83.3 million ' : 76400000,\n",
    "    '₹1,968−2,500 crore ' : 236160000,\n",
    "    \"['$38.2 million ', '$30.8 million (worldwide', 'rentals']\" : 38200000,\n",
    "    \"$3.5 to 4 million\": 3500000,\n",
    "    '$267.4 million' : 267400000\n",
    "}"
   ]
  },
  {
   "cell_type": "code",
   "execution_count": 50,
   "metadata": {},
   "outputs": [
    {
     "name": "stdout",
     "output_type": "stream",
     "text": [
      "dict_keys(['$960,000', '$1.066 billion', 'est. ₹79.43 crore ', \"['Original release', '$2.6 million ', '1969 re-release', '$2.3 million  ']\", '$76.4–$83.3 million ', '₹1,968−2,500 crore ', \"['$38.2 million ', '$30.8 million (worldwide', 'rentals']\", '$3.5 to 4 million'])\n"
     ]
    }
   ],
   "source": [
    "print(test.keys())"
   ]
  },
  {
   "cell_type": "code",
   "execution_count": 62,
   "metadata": {},
   "outputs": [],
   "source": [
    "def values_convert(val):\n",
    "    exp = r'(\\d+(?:,\\d+)*(?:\\.\\d+)?)\\s*(?:-–)?\\s*'\n",
    "    unit_exp = r'\\b(?:thousand|million|billion|crore)\\b'\n",
    "    \n",
    "    val_match = re.search(exp, val)\n",
    "    unit_match = re.search(unit_exp, val)\n",
    "    \n",
    "    units = {\n",
    "        'thousand' : 1000,\n",
    "        'million' : 1000000,\n",
    "        'billion' : 1000000000,\n",
    "        'crore' : 120000\n",
    "    }\n",
    "    \n",
    "    if val_match:\n",
    "        \n",
    "        number = float(val_match.group(1).replace(',',''))\n",
    "        print(number)\n",
    "        \n",
    "    if unit_match:\n",
    "        unit = unit_match.group().lower()\n",
    "        for key, value in units.items():\n",
    "            if key == unit:\n",
    "                val = round(number * value, 2)\n",
    "    else:\n",
    "        val = number\n",
    "             \n",
    "    print(val)   \n",
    "    \n",
    "    \n",
    "    return val"
   ]
  },
  {
   "cell_type": "code",
   "execution_count": 63,
   "metadata": {},
   "outputs": [],
   "source": [
    "def check(dct):\n",
    "    \n",
    "    results = []\n",
    "    \n",
    "    for key, value in dct.items():\n",
    "        if values_convert(key) == value:\n",
    "            results.append(True)\n",
    "        elif values_convert(key) != value:\n",
    "            results.append(False)\n",
    "        else: results.append(None)\n",
    "        \n",
    "    return results\n",
    "    \n",
    "    \n",
    "    "
   ]
  },
  {
   "cell_type": "code",
   "execution_count": 64,
   "metadata": {},
   "outputs": [
    {
     "name": "stdout",
     "output_type": "stream",
     "text": [
      "960000.0\n",
      "960000.0\n",
      "1.066\n",
      "1066000000.0\n",
      "79.43\n",
      "9531600.0\n",
      "2.6\n",
      "2600000.0\n",
      "76.4\n",
      "76400000.0\n",
      "1968.0\n",
      "236160000.0\n",
      "38.2\n",
      "38200000.0\n",
      "3.5\n",
      "3500000.0\n",
      "267.4\n",
      "267400000.0\n"
     ]
    },
    {
     "data": {
      "text/plain": [
       "[True, True, True, True, True, True, True, True, True]"
      ]
     },
     "execution_count": 64,
     "metadata": {},
     "output_type": "execute_result"
    }
   ],
   "source": [
    "check(test)"
   ]
  },
  {
   "cell_type": "code",
   "execution_count": null,
   "metadata": {},
   "outputs": [],
   "source": []
  }
 ],
 "metadata": {
  "kernelspec": {
   "display_name": "Python 3",
   "language": "python",
   "name": "python3"
  },
  "language_info": {
   "codemirror_mode": {
    "name": "ipython",
    "version": 3
   },
   "file_extension": ".py",
   "mimetype": "text/x-python",
   "name": "python",
   "nbconvert_exporter": "python",
   "pygments_lexer": "ipython3",
   "version": "3.10.0"
  }
 },
 "nbformat": 4,
 "nbformat_minor": 2
}
